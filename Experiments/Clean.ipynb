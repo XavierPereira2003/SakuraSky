{
 "cells": [
  {
   "cell_type": "code",
   "execution_count": 10,
   "metadata": {},
   "outputs": [],
   "source": [
    "import pandas as pd"
   ]
  },
  {
   "cell_type": "code",
   "execution_count": 11,
   "metadata": {},
   "outputs": [
    {
     "data": {
      "text/html": [
       "<div>\n",
       "<style scoped>\n",
       "    .dataframe tbody tr th:only-of-type {\n",
       "        vertical-align: middle;\n",
       "    }\n",
       "\n",
       "    .dataframe tbody tr th {\n",
       "        vertical-align: top;\n",
       "    }\n",
       "\n",
       "    .dataframe thead th {\n",
       "        text-align: right;\n",
       "    }\n",
       "</style>\n",
       "<table border=\"1\" class=\"dataframe\">\n",
       "  <thead>\n",
       "    <tr style=\"text-align: right;\">\n",
       "      <th></th>\n",
       "      <th>from_airport_code</th>\n",
       "      <th>from_country</th>\n",
       "      <th>dest_airport_code</th>\n",
       "      <th>dest_country</th>\n",
       "      <th>aircraft_type</th>\n",
       "      <th>airline_number</th>\n",
       "      <th>airline_name</th>\n",
       "      <th>flight_number</th>\n",
       "      <th>departure_time</th>\n",
       "      <th>arrival_time</th>\n",
       "      <th>duration</th>\n",
       "      <th>stops</th>\n",
       "      <th>price</th>\n",
       "      <th>currency</th>\n",
       "      <th>co2_emissions</th>\n",
       "      <th>avg_co2_emission_for_this_route</th>\n",
       "      <th>co2_percentage</th>\n",
       "      <th>scan_date</th>\n",
       "    </tr>\n",
       "  </thead>\n",
       "  <tbody>\n",
       "    <tr>\n",
       "      <th>0</th>\n",
       "      <td>ALG</td>\n",
       "      <td>Algeria</td>\n",
       "      <td>AEP</td>\n",
       "      <td>Argentina</td>\n",
       "      <td>Airbus A318|Canadair RJ 1000|Airbus A330|Airbu...</td>\n",
       "      <td>multi</td>\n",
       "      <td>[Air France| Iberia| LATAM]</td>\n",
       "      <td>AF1491|AF1491|AF1491|AF1491</td>\n",
       "      <td>2022-04-30 14:30:00</td>\n",
       "      <td>2022-05-01 10:15:00</td>\n",
       "      <td>1425</td>\n",
       "      <td>3</td>\n",
       "      <td>1279.0</td>\n",
       "      <td>USD</td>\n",
       "      <td>1320000.0</td>\n",
       "      <td>1320000.0</td>\n",
       "      <td>0%</td>\n",
       "      <td>2022-04-29 17:52:59</td>\n",
       "    </tr>\n",
       "    <tr>\n",
       "      <th>1</th>\n",
       "      <td>ALG</td>\n",
       "      <td>Algeria</td>\n",
       "      <td>AEP</td>\n",
       "      <td>Argentina</td>\n",
       "      <td>Airbus A318|Canadair RJ 1000|Boeing 787|Airbus...</td>\n",
       "      <td>multi</td>\n",
       "      <td>[Air France| Iberia| LATAM]</td>\n",
       "      <td>AF1491|AF1491|AF1491|AF1491</td>\n",
       "      <td>2022-04-30 14:30:00</td>\n",
       "      <td>2022-05-01 10:15:00</td>\n",
       "      <td>1425</td>\n",
       "      <td>3</td>\n",
       "      <td>1279.0</td>\n",
       "      <td>USD</td>\n",
       "      <td>1195000.0</td>\n",
       "      <td>1320000.0</td>\n",
       "      <td>-9%</td>\n",
       "      <td>2022-04-29 17:52:59</td>\n",
       "    </tr>\n",
       "    <tr>\n",
       "      <th>2</th>\n",
       "      <td>ALG</td>\n",
       "      <td>Algeria</td>\n",
       "      <td>AEP</td>\n",
       "      <td>Argentina</td>\n",
       "      <td>Airbus A320|Airbus A321|Boeing 787|Airbus A320</td>\n",
       "      <td>multi</td>\n",
       "      <td>[Air France| LATAM]</td>\n",
       "      <td>AF1855|AF1855|AF1855|AF1855</td>\n",
       "      <td>2022-04-30 12:45:00</td>\n",
       "      <td>2022-05-01 10:15:00</td>\n",
       "      <td>1530</td>\n",
       "      <td>3</td>\n",
       "      <td>1284.0</td>\n",
       "      <td>USD</td>\n",
       "      <td>1248000.0</td>\n",
       "      <td>1320000.0</td>\n",
       "      <td>-5%</td>\n",
       "      <td>2022-04-29 17:52:59</td>\n",
       "    </tr>\n",
       "    <tr>\n",
       "      <th>3</th>\n",
       "      <td>ALG</td>\n",
       "      <td>Algeria</td>\n",
       "      <td>AEP</td>\n",
       "      <td>Argentina</td>\n",
       "      <td>Airbus A318|Airbus A320|Boeing 787|Airbus A320</td>\n",
       "      <td>multi</td>\n",
       "      <td>[Air France| LATAM]</td>\n",
       "      <td>AF1491|AF1491|AF1491|AF1491</td>\n",
       "      <td>2022-04-30 14:30:00</td>\n",
       "      <td>2022-05-01 10:15:00</td>\n",
       "      <td>1425</td>\n",
       "      <td>3</td>\n",
       "      <td>1290.0</td>\n",
       "      <td>USD</td>\n",
       "      <td>1347000.0</td>\n",
       "      <td>1320000.0</td>\n",
       "      <td>2%</td>\n",
       "      <td>2022-04-29 17:52:59</td>\n",
       "    </tr>\n",
       "    <tr>\n",
       "      <th>4</th>\n",
       "      <td>ALG</td>\n",
       "      <td>Algeria</td>\n",
       "      <td>AEP</td>\n",
       "      <td>Argentina</td>\n",
       "      <td>Airbus A321neo|Boeing 777|Airbus A320</td>\n",
       "      <td>multi</td>\n",
       "      <td>[Lufthansa| LATAM]</td>\n",
       "      <td>LH1317|LH1317|LH1317</td>\n",
       "      <td>2022-04-30 12:35:00</td>\n",
       "      <td>2022-05-01 10:15:00</td>\n",
       "      <td>1540</td>\n",
       "      <td>2</td>\n",
       "      <td>1347.0</td>\n",
       "      <td>USD</td>\n",
       "      <td>1381000.0</td>\n",
       "      <td>1320000.0</td>\n",
       "      <td>4%</td>\n",
       "      <td>2022-04-29 17:52:59</td>\n",
       "    </tr>\n",
       "  </tbody>\n",
       "</table>\n",
       "</div>"
      ],
      "text/plain": [
       "  from_airport_code from_country dest_airport_code dest_country  \\\n",
       "0               ALG      Algeria               AEP    Argentina   \n",
       "1               ALG      Algeria               AEP    Argentina   \n",
       "2               ALG      Algeria               AEP    Argentina   \n",
       "3               ALG      Algeria               AEP    Argentina   \n",
       "4               ALG      Algeria               AEP    Argentina   \n",
       "\n",
       "                                       aircraft_type airline_number  \\\n",
       "0  Airbus A318|Canadair RJ 1000|Airbus A330|Airbu...          multi   \n",
       "1  Airbus A318|Canadair RJ 1000|Boeing 787|Airbus...          multi   \n",
       "2     Airbus A320|Airbus A321|Boeing 787|Airbus A320          multi   \n",
       "3     Airbus A318|Airbus A320|Boeing 787|Airbus A320          multi   \n",
       "4              Airbus A321neo|Boeing 777|Airbus A320          multi   \n",
       "\n",
       "                  airline_name                flight_number  \\\n",
       "0  [Air France| Iberia| LATAM]  AF1491|AF1491|AF1491|AF1491   \n",
       "1  [Air France| Iberia| LATAM]  AF1491|AF1491|AF1491|AF1491   \n",
       "2          [Air France| LATAM]  AF1855|AF1855|AF1855|AF1855   \n",
       "3          [Air France| LATAM]  AF1491|AF1491|AF1491|AF1491   \n",
       "4           [Lufthansa| LATAM]         LH1317|LH1317|LH1317   \n",
       "\n",
       "        departure_time         arrival_time  duration  stops   price currency  \\\n",
       "0  2022-04-30 14:30:00  2022-05-01 10:15:00      1425      3  1279.0      USD   \n",
       "1  2022-04-30 14:30:00  2022-05-01 10:15:00      1425      3  1279.0      USD   \n",
       "2  2022-04-30 12:45:00  2022-05-01 10:15:00      1530      3  1284.0      USD   \n",
       "3  2022-04-30 14:30:00  2022-05-01 10:15:00      1425      3  1290.0      USD   \n",
       "4  2022-04-30 12:35:00  2022-05-01 10:15:00      1540      2  1347.0      USD   \n",
       "\n",
       "   co2_emissions  avg_co2_emission_for_this_route co2_percentage  \\\n",
       "0      1320000.0                        1320000.0             0%   \n",
       "1      1195000.0                        1320000.0            -9%   \n",
       "2      1248000.0                        1320000.0            -5%   \n",
       "3      1347000.0                        1320000.0             2%   \n",
       "4      1381000.0                        1320000.0             4%   \n",
       "\n",
       "             scan_date  \n",
       "0  2022-04-29 17:52:59  \n",
       "1  2022-04-29 17:52:59  \n",
       "2  2022-04-29 17:52:59  \n",
       "3  2022-04-29 17:52:59  \n",
       "4  2022-04-29 17:52:59  "
      ]
     },
     "execution_count": 11,
     "metadata": {},
     "output_type": "execute_result"
    }
   ],
   "source": [
    "df=pd.read_csv(\"flight_data.csv\")\n",
    "df.head()"
   ]
  },
  {
   "cell_type": "code",
   "execution_count": 12,
   "metadata": {},
   "outputs": [
    {
     "data": {
      "text/plain": [
       "array(['ALG', 'AEP', 'SYD', 'MEL', 'VIE', 'BRU', 'GRU', 'CNF', 'VCP',\n",
       "       'YYZ', 'SCL', 'CAN', 'CTU', 'SZX', 'PEK', 'SHA', 'XIY', 'PVG',\n",
       "       'HGH', 'CGO', 'BOG', 'CPH', 'DUB', 'CAI', 'ADD', 'CDG', 'FRA',\n",
       "       'MUC', 'ATH', 'DEL', 'BOM'], dtype=object)"
      ]
     },
     "execution_count": 12,
     "metadata": {},
     "output_type": "execute_result"
    }
   ],
   "source": [
    "df['from_airport_code'].unique()"
   ]
  },
  {
   "cell_type": "code",
   "execution_count": 13,
   "metadata": {},
   "outputs": [
    {
     "data": {
      "text/plain": [
       "array(['AEP', 'SYD', 'MEL', 'VIE', 'GRU', 'BRU', 'YYZ', 'CNF', 'SCL',\n",
       "       'CAN', 'SZX', 'PVG', 'BOG', 'CPH', 'DUB', 'ADD', 'CAI', 'CDG',\n",
       "       'MUC', 'FRA', 'DEL', 'ATH', 'BOM', 'CGK', 'BLR', 'MXP', 'NRT',\n",
       "       'HND', 'NBO', 'MEX', 'KUL', 'CMN', 'OSL', 'AMS', 'PTY', 'MNL',\n",
       "       'LIM', 'LIS', 'FCO', 'DOH', 'SVO', 'SIN', 'DME', 'JNB', 'ICN',\n",
       "       'CPT', 'MAD', 'TPE', 'ARN', 'BKK', 'SAW', 'IST', 'DXB', 'LHR',\n",
       "       'LGW', 'MAN', 'ATL', 'ORD', 'LAX', 'PHX', 'MCO', 'CLT', 'MIA',\n",
       "       'IAH', 'SEA', 'FLL', 'SFO', 'JFK', 'ZRH', 'ALG', 'SGN', 'SHA',\n",
       "       'HGH', 'CTU', 'XIY', 'VCP', 'CGO', 'PEK'], dtype=object)"
      ]
     },
     "execution_count": 13,
     "metadata": {},
     "output_type": "execute_result"
    }
   ],
   "source": [
    "df['dest_airport_code'].unique()"
   ]
  },
  {
   "cell_type": "code",
   "execution_count": 14,
   "metadata": {},
   "outputs": [
    {
     "name": "stdout",
     "output_type": "stream",
     "text": [
      "<class 'pandas.core.frame.DataFrame'>\n",
      "RangeIndex: 998866 entries, 0 to 998865\n",
      "Data columns (total 18 columns):\n",
      " #   Column                           Non-Null Count   Dtype  \n",
      "---  ------                           --------------   -----  \n",
      " 0   from_airport_code                998866 non-null  object \n",
      " 1   from_country                     998866 non-null  object \n",
      " 2   dest_airport_code                998866 non-null  object \n",
      " 3   dest_country                     998866 non-null  object \n",
      " 4   aircraft_type                    984952 non-null  object \n",
      " 5   airline_number                   998866 non-null  object \n",
      " 6   airline_name                     998866 non-null  object \n",
      " 7   flight_number                    998866 non-null  object \n",
      " 8   departure_time                   998866 non-null  object \n",
      " 9   arrival_time                     998866 non-null  object \n",
      " 10  duration                         998866 non-null  int64  \n",
      " 11  stops                            998866 non-null  int64  \n",
      " 12  price                            997513 non-null  float64\n",
      " 13  currency                         998866 non-null  object \n",
      " 14  co2_emissions                    993998 non-null  float64\n",
      " 15  avg_co2_emission_for_this_route  910464 non-null  float64\n",
      " 16  co2_percentage                   910464 non-null  object \n",
      " 17  scan_date                        998866 non-null  object \n",
      "dtypes: float64(3), int64(2), object(13)\n",
      "memory usage: 137.2+ MB\n"
     ]
    }
   ],
   "source": [
    "df.info()"
   ]
  },
  {
   "cell_type": "code",
   "execution_count": 15,
   "metadata": {},
   "outputs": [
    {
     "data": {
      "text/plain": [
       "from_airport_code                      0\n",
       "from_country                           0\n",
       "dest_airport_code                      0\n",
       "dest_country                           0\n",
       "aircraft_type                      13914\n",
       "airline_number                         0\n",
       "airline_name                           0\n",
       "flight_number                          0\n",
       "departure_time                         0\n",
       "arrival_time                           0\n",
       "duration                               0\n",
       "stops                                  0\n",
       "price                               1353\n",
       "currency                               0\n",
       "co2_emissions                       4868\n",
       "avg_co2_emission_for_this_route    88402\n",
       "co2_percentage                     88402\n",
       "scan_date                              0\n",
       "dtype: int64"
      ]
     },
     "execution_count": 15,
     "metadata": {},
     "output_type": "execute_result"
    }
   ],
   "source": [
    "df.isnull().sum()"
   ]
  },
  {
   "cell_type": "code",
   "execution_count": 16,
   "metadata": {},
   "outputs": [
    {
     "name": "stderr",
     "output_type": "stream",
     "text": [
      "/tmp/ipykernel_20145/2337384848.py:1: FutureWarning: Setting an item of incompatible dtype is deprecated and will raise an error in a future version of pandas. Value 'Unknown' has dtype incompatible with float64, please explicitly cast to a compatible dtype first.\n",
      "  df.fillna(\"Unknown\",inplace=True)\n"
     ]
    }
   ],
   "source": [
    "df.fillna(\"Unknown\",inplace=True)"
   ]
  },
  {
   "cell_type": "code",
   "execution_count": null,
   "metadata": {},
   "outputs": [],
   "source": []
  }
 ],
 "metadata": {
  "kernelspec": {
   "display_name": "Python 3",
   "language": "python",
   "name": "python3"
  },
  "language_info": {
   "codemirror_mode": {
    "name": "ipython",
    "version": 3
   },
   "file_extension": ".py",
   "mimetype": "text/x-python",
   "name": "python",
   "nbconvert_exporter": "python",
   "pygments_lexer": "ipython3",
   "version": "3.11.8"
  }
 },
 "nbformat": 4,
 "nbformat_minor": 2
}
