{
 "cells": [
  {
   "cell_type": "code",
   "execution_count": 1,
   "metadata": {
    "metadata": {}
   },
   "outputs": [],
   "source": [
    "from langchain_openai import ChatOpenAI\n",
    "from langchain.schema import AIMessage, HumanMessage\n",
    "import gradio as gr\n",
    "import os\n",
    "\n",
    "from langchain_community.document_loaders import UnstructuredExcelLoader"
   ]
  },
  {
   "cell_type": "code",
   "execution_count": 2,
   "metadata": {
    "metadata": {}
   },
   "outputs": [],
   "source": [
    "path=os.path.dirname(os.getcwd())\n",
    "path=os.path.join(path,'Datasets/Test.xlsx')\n",
    "\n",
    "loader=UnstructuredExcelLoader(path,mode=\"elements\")\n",
    "docs=loader.load() "
   ]
  },
  {
   "cell_type": "code",
   "execution_count": 3,
   "metadata": {
    "metadata": {}
   },
   "outputs": [],
   "source": [
    "os.environ[\"OPENAI_API_KEY\"] = os.getenv(\"OPENAI_KEY\")"
   ]
  },
  {
   "cell_type": "code",
   "execution_count": 4,
   "metadata": {
    "metadata": {}
   },
   "outputs": [],
   "source": [
    "from langchain_openai import OpenAIEmbeddings\n",
    "embedding=OpenAIEmbeddings()\n"
   ]
  },
  {
   "cell_type": "code",
   "execution_count": 5,
   "metadata": {
    "metadata": {}
   },
   "outputs": [],
   "source": [
    "\n",
    "text_split=RecursiveCharacterTextSplitter(\n",
    "    chunk_size=100,\n",
    "    chunk_overlap=20,\n",
    "    length_function=len,\n",
    "    is_separator_regex=False\n",
    ")\n",
    "docs=text_split.split_documents(docs)"
   ]
  },
  {
   "cell_type": "code",
   "execution_count": 6,
   "metadata": {
    "metadata": {}
   },
   "outputs": [],
   "source": [
    "from langchain_community.vectorstores.utils import filter_complex_metadata\n",
    "docs=filter_complex_metadata(docs)"
   ]
  },
  {
   "cell_type": "code",
   "execution_count": 7,
   "metadata": {
    "metadata": {}
   },
   "outputs": [],
   "source": []
  },
  {
   "cell_type": "code",
   "execution_count": 16,
   "metadata": {},
   "outputs": [],
   "source": [
    "\n"
   ]
  },
  {
   "cell_type": "code",
   "execution_count": 9,
   "metadata": {
    "metadata": {}
   },
   "outputs": [
    {
     "data": {
      "text/plain": [
       "OpenAIEmbeddings(client=<openai.resources.embeddings.Embeddings object at 0x7aa3f8ad38d0>, async_client=<openai.resources.embeddings.AsyncEmbeddings object at 0x7aa3f8ac5990>, model='text-embedding-ada-002', dimensions=None, deployment='text-embedding-ada-002', openai_api_version='', openai_api_base=None, openai_api_type='', openai_proxy='', embedding_ctx_length=8191, openai_api_key=SecretStr('**********'), openai_organization=None, allowed_special=set(), disallowed_special='all', chunk_size=1000, max_retries=2, request_timeout=None, headers=None, tiktoken_enabled=True, tiktoken_model_name=None, show_progress_bar=False, model_kwargs={}, skip_empty=False, default_headers=None, default_query=None, retry_min_seconds=4, retry_max_seconds=20, http_client=None, http_async_client=None)"
      ]
     },
     "execution_count": 9,
     "metadata": {},
     "output_type": "execute_result"
    }
   ],
   "source": []
  },
  {
   "cell_type": "code",
   "execution_count": 18,
   "metadata": {},
   "outputs": [],
   "source": [
    "from langchain_core.retrievers import BaseRetriever\n",
    "from langchain.vectorstores import DocArrayInMemorySearch\n",
    "from langchain_text_splitters import RecursiveCharacterTextSplitter\n",
    "from langchain_community.vectorstores.utils import filter_complex_metadata\n",
    "\n",
    "\n",
    "\n",
    "def config_retrivalChain(docs):\n",
    "    \"\"\"Read Docs, configure retriival and the chain\"\"\"\n",
    "    docs=filter_complex_metadata(docs)\n",
    "    text_split=RecursiveCharacterTextSplitter(\n",
    "        chunk_size=1500,\n",
    "        chunk_overlap=50,\n",
    "        length_function=len,\n",
    "        is_separator_regex=False\n",
    "    )\n",
    "    embedding=OpenAIEmbeddings()\n",
    "    docs=text_split.split_documents(docs)\n",
    "    vectorStore=DocArrayInMemorySearch(docs,embedding)\n",
    "    return vectorStore.as_retriever(search_type='mmr',search_kwargs={'k':4,\"fetch_k\":4})\n",
    "\n",
    "\n"
   ]
  },
  {
   "cell_type": "code",
   "execution_count": 19,
   "metadata": {},
   "outputs": [],
   "source": [
    "from langchain.chains.base import Chain\n",
    "from langchain.chains import ConversationalRetrievalChain\n",
    "from langchain.memory import ConversationBufferMemory\n",
    "from langchain_community.document_loaders import UnstructuredExcelLoader\n",
    "\n",
    "path=os.path.dirname(os.getcwd())\n",
    "path=os.path.join(path,'Datasets/Test.xlsx')\n",
    "\n",
    "loader=UnstructuredExcelLoader(path,mode=\"elements\")\n",
    "Doc=loader.load()\n",
    "\n",
    "def config_chain(retriver:BaseRetriever)->Chain:\n",
    "    \"\"\"Configure Chain with A retriver\"\"\"\n",
    "    memory=ConversationBufferMemory(memory_key=\"chat_history\",return_messages=True)\n",
    "    LLM=ChatOpenAI(temperature=0.3, model='gpt-3.5-turbo-1106',streaming=True)\n",
    "    return ConversationalRetrievalChain.from_llm(\n",
    "        LLM, retriver, memory=memory,verbose=True,max_tokens_limit=4000\n",
    "    )\n",
    "\n",
    "def chatConveration(docs=Doc):\n",
    "    retriver=config_retrivalChain(docs)\n",
    "    chain=config_chain(retriver)\n",
    "    return chain\n",
    "\n"
   ]
  },
  {
   "cell_type": "code",
   "execution_count": 21,
   "metadata": {},
   "outputs": [
    {
     "name": "stdout",
     "output_type": "stream",
     "text": [
      "Running on local URL:  http://127.0.0.1:7861\n",
      "\n",
      "To create a public link, set `share=True` in `launch()`.\n"
     ]
    },
    {
     "data": {
      "text/html": [
       "<div><iframe src=\"http://127.0.0.1:7861/\" width=\"100%\" height=\"500\" allow=\"autoplay; camera; microphone; clipboard-read; clipboard-write;\" frameborder=\"0\" allowfullscreen></iframe></div>"
      ],
      "text/plain": [
       "<IPython.core.display.HTML object>"
      ]
     },
     "metadata": {},
     "output_type": "display_data"
    },
    {
     "data": {
      "text/plain": []
     },
     "execution_count": 21,
     "metadata": {},
     "output_type": "execute_result"
    },
    {
     "name": "stderr",
     "output_type": "stream",
     "text": [
      "/home/deon/Project/SakuraSky/env/lib/python3.11/site-packages/langchain_core/_api/deprecation.py:119: LangChainDeprecationWarning: The method `Chain.run` was deprecated in langchain 0.1.0 and will be removed in 0.2.0. Use invoke instead.\n",
      "  warn_deprecated(\n",
      "Traceback (most recent call last):\n",
      "  File \"/home/deon/Project/SakuraSky/env/lib/python3.11/site-packages/gradio/queueing.py\", line 527, in process_events\n",
      "    response = await route_utils.call_process_api(\n",
      "               ^^^^^^^^^^^^^^^^^^^^^^^^^^^^^^^^^^^\n",
      "  File \"/home/deon/Project/SakuraSky/env/lib/python3.11/site-packages/gradio/route_utils.py\", line 270, in call_process_api\n",
      "    output = await app.get_blocks().process_api(\n",
      "             ^^^^^^^^^^^^^^^^^^^^^^^^^^^^^^^^^^^\n",
      "  File \"/home/deon/Project/SakuraSky/env/lib/python3.11/site-packages/gradio/blocks.py\", line 1847, in process_api\n",
      "    result = await self.call_function(\n",
      "             ^^^^^^^^^^^^^^^^^^^^^^^^^\n",
      "  File \"/home/deon/Project/SakuraSky/env/lib/python3.11/site-packages/gradio/blocks.py\", line 1431, in call_function\n",
      "    prediction = await fn(*processed_input)\n",
      "                 ^^^^^^^^^^^^^^^^^^^^^^^^^^\n",
      "  File \"/home/deon/Project/SakuraSky/env/lib/python3.11/site-packages/gradio/utils.py\", line 755, in async_wrapper\n",
      "    response = await f(*args, **kwargs)\n",
      "               ^^^^^^^^^^^^^^^^^^^^^^^^\n",
      "  File \"/home/deon/Project/SakuraSky/env/lib/python3.11/site-packages/gradio/chat_interface.py\", line 513, in _submit_fn\n",
      "    response = await anyio.to_thread.run_sync(\n",
      "               ^^^^^^^^^^^^^^^^^^^^^^^^^^^^^^^\n",
      "  File \"/home/deon/Project/SakuraSky/env/lib/python3.11/site-packages/anyio/to_thread.py\", line 56, in run_sync\n",
      "    return await get_async_backend().run_sync_in_worker_thread(\n",
      "           ^^^^^^^^^^^^^^^^^^^^^^^^^^^^^^^^^^^^^^^^^^^^^^^^^^^^\n",
      "  File \"/home/deon/Project/SakuraSky/env/lib/python3.11/site-packages/anyio/_backends/_asyncio.py\", line 2144, in run_sync_in_worker_thread\n",
      "    return await future\n",
      "           ^^^^^^^^^^^^\n",
      "  File \"/home/deon/Project/SakuraSky/env/lib/python3.11/site-packages/anyio/_backends/_asyncio.py\", line 851, in run\n",
      "    result = context.run(func, *args)\n",
      "             ^^^^^^^^^^^^^^^^^^^^^^^^\n",
      "  File \"/tmp/ipykernel_7495/3671453159.py\", line 10, in predict\n",
      "    response=chain.run(input=message,history=history_langchain_format)\n",
      "             ^^^^^^^^^^^^^^^^^^^^^^^^^^^^^^^^^^^^^^^^^^^^^^^^^^^^^^^^^\n",
      "  File \"/home/deon/Project/SakuraSky/env/lib/python3.11/site-packages/langchain_core/_api/deprecation.py\", line 148, in warning_emitting_wrapper\n",
      "    return wrapped(*args, **kwargs)\n",
      "           ^^^^^^^^^^^^^^^^^^^^^^^^\n",
      "  File \"/home/deon/Project/SakuraSky/env/lib/python3.11/site-packages/langchain/chains/base.py\", line 574, in run\n",
      "    return self(kwargs, callbacks=callbacks, tags=tags, metadata=metadata)[\n",
      "           ^^^^^^^^^^^^^^^^^^^^^^^^^^^^^^^^^^^^^^^^^^^^^^^^^^^^^^^^^^^^^^^\n",
      "  File \"/home/deon/Project/SakuraSky/env/lib/python3.11/site-packages/langchain_core/_api/deprecation.py\", line 148, in warning_emitting_wrapper\n",
      "    return wrapped(*args, **kwargs)\n",
      "           ^^^^^^^^^^^^^^^^^^^^^^^^\n",
      "  File \"/home/deon/Project/SakuraSky/env/lib/python3.11/site-packages/langchain/chains/base.py\", line 378, in __call__\n",
      "    return self.invoke(\n",
      "           ^^^^^^^^^^^^\n",
      "  File \"/home/deon/Project/SakuraSky/env/lib/python3.11/site-packages/langchain/chains/base.py\", line 163, in invoke\n",
      "    raise e\n",
      "  File \"/home/deon/Project/SakuraSky/env/lib/python3.11/site-packages/langchain/chains/base.py\", line 151, in invoke\n",
      "    self._validate_inputs(inputs)\n",
      "  File \"/home/deon/Project/SakuraSky/env/lib/python3.11/site-packages/langchain/chains/base.py\", line 279, in _validate_inputs\n",
      "    raise ValueError(f\"Missing some input keys: {missing_keys}\")\n",
      "ValueError: Missing some input keys: {'question'}\n"
     ]
    }
   ],
   "source": [
    "import gradio as gr\n",
    "\n",
    "def predict(message, history):\n",
    "    history_langchain_format = []\n",
    "    for human, ai in history:\n",
    "        history_langchain_format.append(HumanMessage(content=human))\n",
    "        history_langchain_format.append(AIMessage(content=ai))\n",
    "    history_langchain_format.append(HumanMessage(content=message))\n",
    "    chain=chatConveration()\n",
    "    response=chain.run(input=message,history=history_langchain_format)\n",
    "    return response.content\n",
    "\n",
    "\n",
    "gr.ChatInterface(predict).launch()"
   ]
  },
  {
   "cell_type": "code",
   "execution_count": null,
   "metadata": {},
   "outputs": [],
   "source": []
  }
 ],
 "metadata": {
  "kernelspec": {
   "display_name": "Python 3",
   "language": "python",
   "name": "python3"
  },
  "language_info": {
   "codemirror_mode": {
    "name": "ipython",
    "version": 3
   },
   "file_extension": ".py",
   "mimetype": "text/x-python",
   "name": "python",
   "nbconvert_exporter": "python",
   "pygments_lexer": "ipython3",
   "version": "3.11.8"
  }
 },
 "nbformat": 4,
 "nbformat_minor": 2
}
